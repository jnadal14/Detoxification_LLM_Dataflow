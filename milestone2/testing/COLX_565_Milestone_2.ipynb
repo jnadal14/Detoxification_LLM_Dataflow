{
  "cells": [
    {
      "cell_type": "markdown",
      "source": [
        "## Setup"
      ],
      "metadata": {
        "id": "hQ0kEMJTRhhT"
      }
    },
    {
      "cell_type": "markdown",
      "source": [
        "Mount google drive if on colab:"
      ],
      "metadata": {
        "id": "KxEiErxUSOW-"
      }
    },
    {
      "cell_type": "code",
      "source": [
        "from google.colab import drive\n",
        "drive.mount('/content/drive')"
      ],
      "metadata": {
        "colab": {
          "base_uri": "https://localhost:8080/"
        },
        "id": "ugWLlC_3SJPJ",
        "outputId": "9645b51c-e451-4afa-fea1-ce35f7843db1"
      },
      "execution_count": 1,
      "outputs": [
        {
          "output_type": "stream",
          "name": "stdout",
          "text": [
            "Drive already mounted at /content/drive; to attempt to forcibly remount, call drive.mount(\"/content/drive\", force_remount=True).\n"
          ]
        }
      ]
    },
    {
      "cell_type": "markdown",
      "source": [
        "Download modules:"
      ],
      "metadata": {
        "id": "_goK3_I8TCSF"
      }
    },
    {
      "cell_type": "code",
      "source": [
        "!pip install langchain langchain_huggingface langdetect"
      ],
      "metadata": {
        "colab": {
          "base_uri": "https://localhost:8080/"
        },
        "id": "p4akLSATS4U0",
        "outputId": "20b35f3a-f1e3-489b-8bbb-d839cafc59fe"
      },
      "execution_count": 8,
      "outputs": [
        {
          "output_type": "stream",
          "name": "stdout",
          "text": [
            "Requirement already satisfied: langchain in /usr/local/lib/python3.11/dist-packages (0.3.20)\n",
            "Requirement already satisfied: langchain_huggingface in /usr/local/lib/python3.11/dist-packages (0.1.2)\n",
            "Requirement already satisfied: langdetect in /usr/local/lib/python3.11/dist-packages (1.0.9)\n",
            "\u001b[31mERROR: Could not find a version that satisfies the requirement langchain.chat_models.huggingface (from versions: none)\u001b[0m\u001b[31m\n",
            "\u001b[0m\u001b[31mERROR: No matching distribution found for langchain.chat_models.huggingface\u001b[0m\u001b[31m\n",
            "\u001b[0m"
          ]
        }
      ]
    },
    {
      "cell_type": "markdown",
      "source": [
        "Imports:"
      ],
      "metadata": {
        "id": "o6Gz8R8NR7vr"
      }
    },
    {
      "cell_type": "code",
      "source": [
        "# Imports\n",
        "\n",
        "from langchain_huggingface import HuggingFacePipeline, ChatHuggingFace\n",
        "from langchain.prompts import ChatPromptTemplate\n",
        "from langchain_core.tools import tool, Tool\n",
        "from langchain.prompts.chat import ChatPromptTemplate\n",
        "from langchain_core.messages import HumanMessage, SystemMessage, AIMessage\n",
        "from langchain.agents import create_tool_calling_agent, AgentExecutor\n",
        "\n",
        "from transformers import pipeline\n",
        "from langchain.tools import Tool\n",
        "\n",
        "from langdetect import detect, DetectorFactory\n",
        "import langdetect.lang_detect_exception\n",
        "\n",
        "from transformers import AutoTokenizer, MT5ForConditionalGeneration\n",
        "\n",
        "import torch\n",
        "import pandas as pd\n",
        "import json\n",
        "\n",
        "from sklearn.metrics import accuracy_score, precision_recall_fscore_support"
      ],
      "metadata": {
        "id": "__sGQEDqR9gn"
      },
      "execution_count": 15,
      "outputs": []
    },
    {
      "cell_type": "code",
      "source": [
        "# Use GPU\n",
        "\n",
        "device = \"cuda:0\" if torch.cuda.is_available() else \"cpu\"\n",
        "device"
      ],
      "metadata": {
        "colab": {
          "base_uri": "https://localhost:8080/",
          "height": 35
        },
        "id": "B-o-Mj_ImjJ2",
        "outputId": "4f88986c-9044-4ab2-f7ec-0bbe0aa32ccf"
      },
      "execution_count": 2,
      "outputs": [
        {
          "output_type": "execute_result",
          "data": {
            "text/plain": [
              "'cuda:0'"
            ],
            "application/vnd.google.colaboratory.intrinsic+json": {
              "type": "string"
            }
          },
          "metadata": {},
          "execution_count": 2
        }
      ]
    },
    {
      "cell_type": "markdown",
      "source": [
        "We load the data below in the pipeline implementation."
      ],
      "metadata": {
        "id": "DtlgqDVJZR_d"
      }
    },
    {
      "cell_type": "markdown",
      "source": [
        "Models:"
      ],
      "metadata": {
        "id": "fsGnzPH0Sfp4"
      }
    },
    {
      "cell_type": "markdown",
      "source": [
        "We use the UBC Toucan model for translation:"
      ],
      "metadata": {
        "id": "GzL4DzwKT9Sj"
      }
    },
    {
      "cell_type": "markdown",
      "source": [
        "To translate using Toucan models, we use the target language ISO-3 code as preix."
      ],
      "metadata": {
        "id": "B2GdX5VWVuOZ"
      }
    },
    {
      "cell_type": "code",
      "source": [
        "lang_names={\n",
        "    \"aar\": \"Afar\",\n",
        "    \"ach\": \"Acholi\",\n",
        "    \"afr\": \"Afrikaans\",\n",
        "    \"aka\": \"Akan\",\n",
        "    \"amh\": \"Amharic\",\n",
        "    \"bam\": \"Bambara\",\n",
        "    \"bas\": \"Basaa\",\n",
        "    \"bem\": \"Bemba\",\n",
        "    \"btg\": \"Bete Gagnoa\",\n",
        "    \"eng\": \"English\",\n",
        "    \"ewe\": \"Ewe\",\n",
        "    \"fon\": \"Fon\",\n",
        "    \"fra\": \"French\",\n",
        "    \"hau\": \"Hausa\",\n",
        "    \"ibo\": \"Igbo\",\n",
        "    \"kbp\": \"Kabiye\",\n",
        "    \"lgg\": \"Lugbara\",\n",
        "    \"lug\": \"Luganda\",\n",
        "    \"mlg\": \"Malagasy\",\n",
        "    \"nyn\": \"Nyakore\",\n",
        "    \"orm\": \"Oromo\",\n",
        "    \"som\": \"Somali\",\n",
        "    \"sot\": \"Sesotho\",\n",
        "    \"swa\": \"Swahili\",\n",
        "    \"tir\": \"Tigrinya\",\n",
        "    \"yor\": \"Yoruba\",\n",
        "    \"teo\": \"Ateso\",\n",
        "    \"gez\": \"Geez\",\n",
        "    \"wal\": \"Wolaytta\",\n",
        "    \"fan\": \"Fang\",\n",
        "    \"kau\": \"Kanuri\",\n",
        "    \"kin\": \"Kinyawanda\",\n",
        "    \"kon\": \"Kongo\",\n",
        "    \"lin\": \"Lingala\",\n",
        "    \"nya\": \"Chichewa\",\n",
        "    \"pcm\": \"Nigerian Pidgin\",\n",
        "    \"ssw\": \"Siswati\",\n",
        "    \"tsn\": \"Setswana\",\n",
        "    \"tso\": \"Tsonga\",\n",
        "    \"twi\": \"Twi\",\n",
        "    \"wol\": \"Wolof\",\n",
        "    \"xho\": \"Xhosa\",\n",
        "    \"zul\": \"Zulu\",\n",
        "    \"nnb\": \"Nande\",\n",
        "    \"swc\": \"Swahili Congo\",\n",
        "    \"ara\": \"Arabic\"\n",
        "}\n"
      ],
      "metadata": {
        "id": "b1mUM3XqVno4"
      },
      "execution_count": 3,
      "outputs": []
    },
    {
      "cell_type": "code",
      "source": [
        "# Initialize our Toucan model for African language translation\n",
        "toucan_tokenizer = AutoTokenizer.from_pretrained(\"UBC-NLP/toucan-base\")\n",
        "toucan_model = MT5ForConditionalGeneration.from_pretrained(\"UBC-NLP/toucan-base\", torch_dtype=torch.float16, device_map=\"auto\")\n",
        "toucan_model.eval()"
      ],
      "metadata": {
        "colab": {
          "base_uri": "https://localhost:8080/"
        },
        "id": "Rdf3rwGsmBle",
        "outputId": "bdc91b9f-9450-4def-e9ce-fbedb0e450b7"
      },
      "execution_count": 4,
      "outputs": [
        {
          "output_type": "stream",
          "name": "stderr",
          "text": [
            "/usr/local/lib/python3.11/dist-packages/huggingface_hub/utils/_auth.py:94: UserWarning: \n",
            "The secret `HF_TOKEN` does not exist in your Colab secrets.\n",
            "To authenticate with the Hugging Face Hub, create a token in your settings tab (https://huggingface.co/settings/tokens), set it as secret in your Google Colab and restart your session.\n",
            "You will be able to reuse this secret in all of your notebooks.\n",
            "Please note that authentication is recommended but still optional to access public models or datasets.\n",
            "  warnings.warn(\n",
            "You are using a model of type t5 to instantiate a model of type mt5. This is not supported for all configurations of models and can yield errors.\n"
          ]
        },
        {
          "output_type": "execute_result",
          "data": {
            "text/plain": [
              "MT5ForConditionalGeneration(\n",
              "  (shared): Embedding(250112, 768)\n",
              "  (encoder): MT5Stack(\n",
              "    (embed_tokens): Embedding(250112, 768)\n",
              "    (block): ModuleList(\n",
              "      (0): MT5Block(\n",
              "        (layer): ModuleList(\n",
              "          (0): MT5LayerSelfAttention(\n",
              "            (SelfAttention): MT5Attention(\n",
              "              (q): Linear(in_features=768, out_features=768, bias=False)\n",
              "              (k): Linear(in_features=768, out_features=768, bias=False)\n",
              "              (v): Linear(in_features=768, out_features=768, bias=False)\n",
              "              (o): Linear(in_features=768, out_features=768, bias=False)\n",
              "              (relative_attention_bias): Embedding(32, 12)\n",
              "            )\n",
              "            (layer_norm): MT5LayerNorm()\n",
              "            (dropout): Dropout(p=0.1, inplace=False)\n",
              "          )\n",
              "          (1): MT5LayerFF(\n",
              "            (DenseReluDense): MT5DenseGatedActDense(\n",
              "              (wi_0): Linear(in_features=768, out_features=2048, bias=False)\n",
              "              (wi_1): Linear(in_features=768, out_features=2048, bias=False)\n",
              "              (wo): Linear(in_features=2048, out_features=768, bias=False)\n",
              "              (dropout): Dropout(p=0.1, inplace=False)\n",
              "              (act): NewGELUActivation()\n",
              "            )\n",
              "            (layer_norm): MT5LayerNorm()\n",
              "            (dropout): Dropout(p=0.1, inplace=False)\n",
              "          )\n",
              "        )\n",
              "      )\n",
              "      (1-11): 11 x MT5Block(\n",
              "        (layer): ModuleList(\n",
              "          (0): MT5LayerSelfAttention(\n",
              "            (SelfAttention): MT5Attention(\n",
              "              (q): Linear(in_features=768, out_features=768, bias=False)\n",
              "              (k): Linear(in_features=768, out_features=768, bias=False)\n",
              "              (v): Linear(in_features=768, out_features=768, bias=False)\n",
              "              (o): Linear(in_features=768, out_features=768, bias=False)\n",
              "            )\n",
              "            (layer_norm): MT5LayerNorm()\n",
              "            (dropout): Dropout(p=0.1, inplace=False)\n",
              "          )\n",
              "          (1): MT5LayerFF(\n",
              "            (DenseReluDense): MT5DenseGatedActDense(\n",
              "              (wi_0): Linear(in_features=768, out_features=2048, bias=False)\n",
              "              (wi_1): Linear(in_features=768, out_features=2048, bias=False)\n",
              "              (wo): Linear(in_features=2048, out_features=768, bias=False)\n",
              "              (dropout): Dropout(p=0.1, inplace=False)\n",
              "              (act): NewGELUActivation()\n",
              "            )\n",
              "            (layer_norm): MT5LayerNorm()\n",
              "            (dropout): Dropout(p=0.1, inplace=False)\n",
              "          )\n",
              "        )\n",
              "      )\n",
              "    )\n",
              "    (final_layer_norm): MT5LayerNorm()\n",
              "    (dropout): Dropout(p=0.1, inplace=False)\n",
              "  )\n",
              "  (decoder): MT5Stack(\n",
              "    (embed_tokens): Embedding(250112, 768)\n",
              "    (block): ModuleList(\n",
              "      (0): MT5Block(\n",
              "        (layer): ModuleList(\n",
              "          (0): MT5LayerSelfAttention(\n",
              "            (SelfAttention): MT5Attention(\n",
              "              (q): Linear(in_features=768, out_features=768, bias=False)\n",
              "              (k): Linear(in_features=768, out_features=768, bias=False)\n",
              "              (v): Linear(in_features=768, out_features=768, bias=False)\n",
              "              (o): Linear(in_features=768, out_features=768, bias=False)\n",
              "              (relative_attention_bias): Embedding(32, 12)\n",
              "            )\n",
              "            (layer_norm): MT5LayerNorm()\n",
              "            (dropout): Dropout(p=0.1, inplace=False)\n",
              "          )\n",
              "          (1): MT5LayerCrossAttention(\n",
              "            (EncDecAttention): MT5Attention(\n",
              "              (q): Linear(in_features=768, out_features=768, bias=False)\n",
              "              (k): Linear(in_features=768, out_features=768, bias=False)\n",
              "              (v): Linear(in_features=768, out_features=768, bias=False)\n",
              "              (o): Linear(in_features=768, out_features=768, bias=False)\n",
              "            )\n",
              "            (layer_norm): MT5LayerNorm()\n",
              "            (dropout): Dropout(p=0.1, inplace=False)\n",
              "          )\n",
              "          (2): MT5LayerFF(\n",
              "            (DenseReluDense): MT5DenseGatedActDense(\n",
              "              (wi_0): Linear(in_features=768, out_features=2048, bias=False)\n",
              "              (wi_1): Linear(in_features=768, out_features=2048, bias=False)\n",
              "              (wo): Linear(in_features=2048, out_features=768, bias=False)\n",
              "              (dropout): Dropout(p=0.1, inplace=False)\n",
              "              (act): NewGELUActivation()\n",
              "            )\n",
              "            (layer_norm): MT5LayerNorm()\n",
              "            (dropout): Dropout(p=0.1, inplace=False)\n",
              "          )\n",
              "        )\n",
              "      )\n",
              "      (1-11): 11 x MT5Block(\n",
              "        (layer): ModuleList(\n",
              "          (0): MT5LayerSelfAttention(\n",
              "            (SelfAttention): MT5Attention(\n",
              "              (q): Linear(in_features=768, out_features=768, bias=False)\n",
              "              (k): Linear(in_features=768, out_features=768, bias=False)\n",
              "              (v): Linear(in_features=768, out_features=768, bias=False)\n",
              "              (o): Linear(in_features=768, out_features=768, bias=False)\n",
              "            )\n",
              "            (layer_norm): MT5LayerNorm()\n",
              "            (dropout): Dropout(p=0.1, inplace=False)\n",
              "          )\n",
              "          (1): MT5LayerCrossAttention(\n",
              "            (EncDecAttention): MT5Attention(\n",
              "              (q): Linear(in_features=768, out_features=768, bias=False)\n",
              "              (k): Linear(in_features=768, out_features=768, bias=False)\n",
              "              (v): Linear(in_features=768, out_features=768, bias=False)\n",
              "              (o): Linear(in_features=768, out_features=768, bias=False)\n",
              "            )\n",
              "            (layer_norm): MT5LayerNorm()\n",
              "            (dropout): Dropout(p=0.1, inplace=False)\n",
              "          )\n",
              "          (2): MT5LayerFF(\n",
              "            (DenseReluDense): MT5DenseGatedActDense(\n",
              "              (wi_0): Linear(in_features=768, out_features=2048, bias=False)\n",
              "              (wi_1): Linear(in_features=768, out_features=2048, bias=False)\n",
              "              (wo): Linear(in_features=2048, out_features=768, bias=False)\n",
              "              (dropout): Dropout(p=0.1, inplace=False)\n",
              "              (act): NewGELUActivation()\n",
              "            )\n",
              "            (layer_norm): MT5LayerNorm()\n",
              "            (dropout): Dropout(p=0.1, inplace=False)\n",
              "          )\n",
              "        )\n",
              "      )\n",
              "    )\n",
              "    (final_layer_norm): MT5LayerNorm()\n",
              "    (dropout): Dropout(p=0.1, inplace=False)\n",
              "  )\n",
              "  (lm_head): Linear(in_features=768, out_features=250112, bias=False)\n",
              ")"
            ]
          },
          "metadata": {},
          "execution_count": 4
        }
      ]
    },
    {
      "cell_type": "markdown",
      "source": [
        "For the rest of the pipeline, we use the IBM Granite model:"
      ],
      "metadata": {
        "id": "ivnIVKifTwy0"
      }
    },
    {
      "cell_type": "code",
      "source": [
        "granite_model = HuggingFacePipeline.from_model_id(\n",
        "    model_id=\"ibm-granite/granite-3.2-2b-instruct\",\n",
        "    task=\"text-generation\",\n",
        "    pipeline_kwargs={\n",
        "        \"return_full_text\": False,\n",
        "        \"do_sample\": False,\n",
        "        \"max_new_tokens\": 300\n",
        "    }\n",
        ")"
      ],
      "metadata": {
        "id": "rWgP6OdUSj4Z",
        "colab": {
          "base_uri": "https://localhost:8080/",
          "height": 265,
          "referenced_widgets": [
            "ea0955ced4114eeba3274cfe5d4b74ca",
            "713c8f77dcb04ea2ba65cf8e886bc2ec",
            "619cbc5bbd5a40239e48e362b97985e2",
            "6f68ca4fe2dd4b698f0a6fa2b2bdb069",
            "f5479226996542da80476309845cfbeb",
            "20e7ca1218b84417aad97685b89b2ecf",
            "e724680aec684e7dad3f37cb5bf82281",
            "9d45d3712a084145921b734757fb7dc7",
            "1108d270c77944b18394e14a7d3e0a53",
            "b3b2200ef11e4ba49ed6690d7d471088",
            "3daef7c874f6496fabf4301d3b5cdcd9"
          ]
        },
        "outputId": "eb756e9f-7471-42f5-cdac-80f30fe065dc"
      },
      "execution_count": 5,
      "outputs": [
        {
          "output_type": "display_data",
          "data": {
            "text/plain": [
              "Loading checkpoint shards:   0%|          | 0/2 [00:00<?, ?it/s]"
            ],
            "application/vnd.jupyter.widget-view+json": {
              "version_major": 2,
              "version_minor": 0,
              "model_id": "ea0955ced4114eeba3274cfe5d4b74ca"
            }
          },
          "metadata": {}
        },
        {
          "output_type": "stream",
          "name": "stderr",
          "text": [
            "Device set to use cuda:0\n"
          ]
        },
        {
          "output_type": "error",
          "ename": "NameError",
          "evalue": "name 'kwargs' is not defined",
          "traceback": [
            "\u001b[0;31m---------------------------------------------------------------------------\u001b[0m",
            "\u001b[0;31mNameError\u001b[0m                                 Traceback (most recent call last)",
            "\u001b[0;32m<ipython-input-5-9b39b0ef3cf3>\u001b[0m in \u001b[0;36m<cell line: 0>\u001b[0;34m()\u001b[0m\n\u001b[1;32m      9\u001b[0m )\n\u001b[1;32m     10\u001b[0m \u001b[0;34m\u001b[0m\u001b[0m\n\u001b[0;32m---> 11\u001b[0;31m \u001b[0mchat\u001b[0m \u001b[0;34m=\u001b[0m \u001b[0mChatHuggingFace\u001b[0m\u001b[0;34m(\u001b[0m\u001b[0mllm\u001b[0m\u001b[0;34m=\u001b[0m\u001b[0mgranite_model\u001b[0m\u001b[0;34m,\u001b[0m \u001b[0;34m**\u001b[0m\u001b[0mkwargs\u001b[0m\u001b[0;34m)\u001b[0m\u001b[0;34m\u001b[0m\u001b[0;34m\u001b[0m\u001b[0m\n\u001b[0m",
            "\u001b[0;31mNameError\u001b[0m: name 'kwargs' is not defined"
          ]
        }
      ]
    },
    {
      "cell_type": "code",
      "source": [
        "chat = ChatHuggingFace(llm=granite_model, temperature=.7)"
      ],
      "metadata": {
        "id": "qPlxS7yk4LB5"
      },
      "execution_count": 6,
      "outputs": []
    },
    {
      "cell_type": "markdown",
      "source": [
        "## Language Detection & Translation"
      ],
      "metadata": {
        "id": "VgqCzciLWmEp"
      }
    },
    {
      "cell_type": "code",
      "source": [
        "DetectorFactory.seed = 0\n",
        "\n",
        "langdetect_to_toucan = {\n",
        "    \"en\": \"eng\", \"fr\": \"fra\", \"sw\": \"swa\", \"yo\": \"yor\", \"ha\": \"hau\",\n",
        "    \"ig\": \"ibo\", \"ar\": \"ara\", \"xh\": \"xho\", \"zu\": \"zul\", \"am\": \"amh\",\n",
        "    \"so\": \"som\", \"st\": \"sot\", \"rw\": \"kin\", \"lg\": \"lug\", \"ln\": \"lin\",\n",
        "    \"sn\": \"tsn\", \"ss\": \"ssw\", \"ny\": \"nya\", \"mg\": \"mlg\", \"om\": \"orm\",\n",
        "    \"ti\": \"tir\", \"nso\": \"tsn\", \"tn\": \"tsn\", \"ts\": \"tso\", \"tw\": \"twi\",\n",
        "    \"wo\": \"wol\", \"kg\": \"kon\", \"ee\": \"ewe\", \"ff\": \"fan\", \"pcm\": \"pcm\",\n",
        "    \"arq\": \"ara\", \"ffm\": \"fan\", \"kab\": \"kab\", \"bm\": \"bam\", \"nyn\": \"nyn\"\n",
        "}\n",
        "\n",
        "def detect_language(text):\n",
        "    try:\n",
        "        detected_lang = detect(text)\n",
        "        return langdetect_to_toucan.get(detected_lang, \"unknown\")\n",
        "    except langdetect.lang_detect_exception.LangDetectException:\n",
        "        return \"unknown\"\n",
        "\n",
        "def detect_and_append_language(df, text_column=\"sentence\"):\n",
        "    df[\"detected_language\"] = df[text_column].apply(detect_language)\n",
        "    return df\n",
        "\n",
        "# The following functions are to be used for tool creation, to bind to our main llm model.\n",
        "\n",
        "def translate_if_needed(text):\n",
        "  \"\"\"Detect whether the text is in English, and translate it to English using Toucan if it is not.\"\"\"\n",
        "  detected_lang = detect_language(text)\n",
        "  if detected_lang != \"eng\":\n",
        "      # ranslation step if the language is not English\n",
        "      # Add 'eng: ' to start of string so that Toucan knows to translate to English\n",
        "      text = \"eng: \" + text\n",
        "      # Call\n",
        "      input_ids = toucan_tokenizer(text, return_tensors=\"pt\", max_length=1024, truncation=True).to(\"cuda:0\")\n",
        "      with torch.no_grad():\n",
        "        generated_ids = toucan_model.generate(**input_ids, num_beams=5, max_new_tokens=len(text), do_sample=True, temperature=0.6, top_p=0.9)\n",
        "      english_text = toucan_tokenizer.batch_decode(generated_ids, skip_special_tokens=True,  skip_prompt=True)[0]\n",
        "  # If detected language is English we just keep it as is\n",
        "  else:\n",
        "      english_text = text\n",
        "  return english_text\n",
        "\n",
        "def analyze_sentiment(review: str) -> str:\n",
        "    sentiment_pipeline = pipeline(\"sentiment-analysis\", model=\"tabularisai/multilingual-sentiment-analysis\")\n",
        "    result = sentiment_pipeline(review)\n",
        "    if result[0]['label'] == 'Neutral':\n",
        "        return \"mixed\"\n",
        "    if result[0]['label'] == 'Negative':\n",
        "        return \"negative\"\n",
        "    if result[0]['label'] == 'Positive':\n",
        "        return \"positive\"\n",
        "\n",
        "def analyze_toxicity(text: str) -> str:\n",
        "    toxicity_pipeline = pipeline(\"text-classification\", model=\"unitary/toxic-bert\")\n",
        "    result = toxicity_pipeline(text)\n",
        "    if result[0]['score'] > 0.5:\n",
        "        return \"toxic\"\n",
        "    else:\n",
        "        return \"non-toxic\""
      ],
      "metadata": {
        "id": "zxHHdykKWoJH"
      },
      "execution_count": 7,
      "outputs": []
    },
    {
      "cell_type": "code",
      "source": [
        "# Tool 1 of 3: Translation\n",
        "\n",
        "translation_tool = Tool(\n",
        "    name=\"African Language to English Translation Tool\",\n",
        "    description=\"Detects whether a language is African and translates it to English if so.\",\n",
        "    func=translate_if_needed,\n",
        "    return_direct=True\n",
        ")\n",
        "\n",
        "# Test out the translation tool directly\n",
        "if __name__ == \"__main__\":\n",
        "    example_sentence = \"Nilifikiri itakuwa mbovu, kumbe app hii ya mazoezi inanifanya nihisi nipo gym halisi, nimeipenda!\"\n",
        "    result = translation_tool.func(example_sentence)\n",
        "    print(f\"{result}\")"
      ],
      "metadata": {
        "colab": {
          "base_uri": "https://localhost:8080/"
        },
        "id": "oEiQRA8sj9Fy",
        "outputId": "160d4f8d-407b-4481-d6e6-d7ca7daf0e67"
      },
      "execution_count": 8,
      "outputs": [
        {
          "output_type": "stream",
          "name": "stdout",
          "text": [
            "I thought it would be bad, but this exercise app makes me feel I'm a real gym, thank you!\n"
          ]
        }
      ]
    },
    {
      "cell_type": "code",
      "source": [
        "# Tool 2 of 3: Sentiment Classifier\n",
        "sentiment_tool = Tool(\n",
        "    name=\"Sentiment Analysis Tool\",\n",
        "    description=\"Analyzes the sentiment of a given text and returns the sentiment label. Input should be a string containing the text to analyze.\",\n",
        "    func=analyze_sentiment,\n",
        "    return_direct=True\n",
        ")\n",
        "\n",
        "# Test the tool directly\n",
        "if __name__ == \"__main__\":\n",
        "  example_sentence = \"This product was pretty good!\"\n",
        "  result = sentiment_tool.func(example_sentence)\n",
        "  print(f\"{result}\")"
      ],
      "metadata": {
        "colab": {
          "base_uri": "https://localhost:8080/"
        },
        "id": "KYwyarPmi0-C",
        "outputId": "939b8a2d-a9aa-4e1a-d376-65484ad68f22"
      },
      "execution_count": 9,
      "outputs": [
        {
          "output_type": "stream",
          "name": "stderr",
          "text": [
            "Device set to use cuda:0\n"
          ]
        },
        {
          "output_type": "stream",
          "name": "stdout",
          "text": [
            "positive\n"
          ]
        }
      ]
    },
    {
      "cell_type": "code",
      "source": [
        "# Tool 3 of 3: Toxicity classifier\n",
        "toxicity_tool = Tool(\n",
        "    name=\"Toxicity Analysis Tool\",\n",
        "    description=\"Analyzes the toxicity of a given text and returns the toxicity label. Input should be a string containing the text to analyze.\",\n",
        "    func=analyze_toxicity,\n",
        "    return_direct=True\n",
        ")\n",
        "\n",
        "# Test the tool directly\n",
        "if __name__ == \"__main__\":\n",
        "  example_sentence = \"\"\n",
        "  result = toxicity_tool.func(example_sentence)\n",
        "  print(f\"{result}\")"
      ],
      "metadata": {
        "colab": {
          "base_uri": "https://localhost:8080/"
        },
        "id": "CBdOk1y9iW3J",
        "outputId": "06e6e0a1-0624-49fd-c5bb-3951dc7d4c01"
      },
      "execution_count": 10,
      "outputs": [
        {
          "output_type": "stream",
          "name": "stderr",
          "text": [
            "Device set to use cuda:0\n"
          ]
        },
        {
          "output_type": "stream",
          "name": "stdout",
          "text": [
            "non-toxic\n"
          ]
        }
      ]
    },
    {
      "cell_type": "code",
      "source": [
        "# The following prompt simulates an agentic workflow; Granite uses tools built from other LLMs to complete each task.\n",
        "\n",
        "prompt = ChatPromptTemplate.from_messages(\n",
        "    [\n",
        "        (\n",
        "            \"system\",\n",
        "            \"\"\"You are an expert in sentiment and toxicity analysis. The user will provide you a query in the form \"Task: sentence\" below.\n",
        "    If the sentence is not in English, translate it to English using the translation_tool.\n",
        "    If the task is \"Please perform toxicity analysis:\" or similar, use the toxicity_tool to get a toxicity label for the sentence.\n",
        "    If the task is \"Please perform sentiment analysis:\" or similar, use the sentiment_tool to get a sentiment label for the sentence.\n",
        "    Explain your reasoning in 25 words or less for the sentiment or toxicity label, and include the explanation in your response.\n",
        "    Finally, if the task is \"Please perform detoxification:\" or similar, return a detoxified version of the sentence with toxicity removed if it is toxic. If it is non-toxic, simply repeat the original sentence.\n",
        "    When you return a sentence this way, DO NOT INCLUDE \"Please perform detoxification:\" in your response.\n",
        "    Do not include any additional text in your output, only the JSON object.\n",
        "\n",
        "    {format_instructions}\n",
        "\n",
        "    Sentence: \"{input}\"\"\"\n",
        "        ),\n",
        "        (\"placeholder\", \"{chat_history}\"),\n",
        "        (\"human\", \"{input}\"),\n",
        "        (\"placeholder\", \"{agent_scratchpad}\"),\n",
        "    ]\n",
        ")\n",
        "\n",
        "format_instructions = \"\"\"\n",
        "Return only a valid JSON object with no additional text or formatting.\n",
        "For toxicity analysis, the JSON object must contain exactly the following keys:\n",
        "{\n",
        "  \"toxicity\": \"toxic\" | \"non-toxic\"\n",
        "  \"toxicity_explanation\": \"A brief reason for this classification in 25 words or less.\"\n",
        "}\n",
        "For sentiment analysis, the JSON object must contain exactly the following keys:\n",
        "{\n",
        "  \"sentiment\": \"positive\" | \"mixed\" | \"negative\",\n",
        "  \"sentiment_explanation\": \"A brief reason for this classification in 25 words or less.\"\n",
        "}\n",
        "For detoxification, the JSON object must contain exactly the following keys:\n",
        "{\n",
        "  \"detoxified_text\": \"<The original sentence if it is non-toxic; DO NOT INCLUDE \"Please perform detoxification:\"> | <A re-written version of the original sentence with problematic language removed, if it is toxic ; DO NOT INCLUDE \"Please perform detoxification:\">\"\n",
        "}\n",
        "\"\"\""
      ],
      "metadata": {
        "id": "-hpwI2VTl7A0"
      },
      "execution_count": 93,
      "outputs": []
    },
    {
      "cell_type": "code",
      "source": [
        "# Initialize our agent with the tools we made earlier, allowing it to call on multiple other LLMs for each task\n",
        "\n",
        "tools = [sentiment_tool, translation_tool, toxicity_tool]\n",
        "\n",
        "# We use a tool calling agent to take advantage of our other LLM tools:\n",
        "\n",
        "agent = create_tool_calling_agent(\n",
        "    tools = tools,\n",
        "    llm=chat,\n",
        "    prompt=prompt\n",
        ")"
      ],
      "metadata": {
        "id": "e3GD629-nMWG"
      },
      "execution_count": 94,
      "outputs": []
    },
    {
      "cell_type": "code",
      "source": [
        "# Initialize our agent_executor and test sentiment analysis\n",
        "\n",
        "agent_executor = AgentExecutor(agent=agent, tools=tools, verbose=False)\n",
        "agent_executor.invoke({\"input\": \"Please perform sentiment analysis: This product is okay, but I've seen better.\", \"format_instructions\": format_instructions})['output']"
      ],
      "metadata": {
        "colab": {
          "base_uri": "https://localhost:8080/",
          "height": 89
        },
        "id": "0G_H7PQSnuUw",
        "outputId": "2299f448-0837-4317-dac3-655e6f8425e5"
      },
      "execution_count": 95,
      "outputs": [
        {
          "output_type": "execute_result",
          "data": {
            "text/plain": [
              "'{\\n  \"sentiment\": \"mixed\",\\n  \"sentiment_explanation\": \"The sentence expresses a mixed sentiment. \\'okay\\' indicates a neutral to positive view, while \\'I\\'ve seen better\\' implies a comparison to superior alternatives.\"\\n}'"
            ],
            "application/vnd.google.colaboratory.intrinsic+json": {
              "type": "string"
            }
          },
          "metadata": {},
          "execution_count": 95
        }
      ]
    },
    {
      "cell_type": "code",
      "source": [
        "# Test out toxicity analysis\n",
        "\n",
        "agent_executor.invoke({\"input\": \"Please perform toxicity analysis: You're a stupid idiot and nobody cares about you.\", \"format_instructions\": format_instructions})['output']"
      ],
      "metadata": {
        "colab": {
          "base_uri": "https://localhost:8080/",
          "height": 71
        },
        "id": "cWGxK9hw5F_r",
        "outputId": "79449fd3-c699-480d-83f7-60a226eb0304"
      },
      "execution_count": 97,
      "outputs": [
        {
          "output_type": "execute_result",
          "data": {
            "text/plain": [
              "'{\\n  \"toxicity\": \"toxic\",\\n  \"toxicity_explanation\": \"The sentence contains direct personal attacks and disrespectful language, indicating high toxicity.\"\\n}'"
            ],
            "application/vnd.google.colaboratory.intrinsic+json": {
              "type": "string"
            }
          },
          "metadata": {},
          "execution_count": 97
        }
      ]
    },
    {
      "cell_type": "code",
      "source": [
        "# Test out detoxification\n",
        "\n",
        "agent_executor.invoke({\"input\": \"Please perform detoxification: You're a stupid idiot and nobody cares about you.\", \"format_instructions\": format_instructions})['output']"
      ],
      "metadata": {
        "colab": {
          "base_uri": "https://localhost:8080/",
          "height": 53
        },
        "id": "Dn1B9yD45RNd",
        "outputId": "351a0e2b-9b7c-4b15-f43a-3d5d7c3bde0a"
      },
      "execution_count": 98,
      "outputs": [
        {
          "output_type": "execute_result",
          "data": {
            "text/plain": [
              "'{\\n  \"detoxified_text\": \"There\\'s no need to resort to such language. Everyone deserves respect.\"\\n}'"
            ],
            "application/vnd.google.colaboratory.intrinsic+json": {
              "type": "string"
            }
          },
          "metadata": {},
          "execution_count": 98
        }
      ]
    },
    {
      "cell_type": "code",
      "source": [
        "# Test out detoxification with a non-toxic sentence (should just return the original or similar)\n",
        "\n",
        "agent_executor.invoke({\"input\": \"Please perform toxicity analysis: Hi! How's it going?\", \"format_instructions\": format_instructions})['output']"
      ],
      "metadata": {
        "colab": {
          "base_uri": "https://localhost:8080/",
          "height": 53
        },
        "id": "JqSg5KjF7S2y",
        "outputId": "2cbe7713-1ec1-40ae-d4a0-f1c2181e9144"
      },
      "execution_count": 99,
      "outputs": [
        {
          "output_type": "execute_result",
          "data": {
            "text/plain": [
              "'{\\n  \"toxicity\": \"non-toxic\",\\n  \"toxicity_explanation\": \"The sentence is a polite greeting and does not contain any toxic language.\"\\n}'"
            ],
            "application/vnd.google.colaboratory.intrinsic+json": {
              "type": "string"
            }
          },
          "metadata": {},
          "execution_count": 99
        }
      ]
    },
    {
      "cell_type": "code",
      "source": [
        "# Test out multilingual sentiment analysis\n",
        "\n",
        "agent_executor.invoke({\"input\": \"Please perform sentiment analysis: Kiukweli, huu mchezo mpya una burudani, lakini huwezi kusonga mbele bila kununua vipengele vya ziada, inaboa!\", \"format_instructions\": format_instructions})['output']"
      ],
      "metadata": {
        "colab": {
          "base_uri": "https://localhost:8080/",
          "height": 89
        },
        "id": "eE9EH3eY5cWq",
        "outputId": "df60a71a-e878-4ee1-ffc7-aafd12b25db8"
      },
      "execution_count": 100,
      "outputs": [
        {
          "output_type": "execute_result",
          "data": {
            "text/plain": [
              "'{\\n  \"sentiment\": \"negative\",\\n  \"sentiment_explanation\": \"The sentiment is negative due to the use of critical language (\\'mchezo mpya una burudani\\', \\'huwezi kusonga mbele bila kununua vipengele vya ziada\\') and the exclamation \\'inaboa\\', indicating frustration or disappointment.\"\\n}'"
            ],
            "application/vnd.google.colaboratory.intrinsic+json": {
              "type": "string"
            }
          },
          "metadata": {},
          "execution_count": 100
        }
      ]
    },
    {
      "cell_type": "markdown",
      "source": [
        "## Running the data:"
      ],
      "metadata": {
        "id": "iw1JlRdegOTW"
      }
    },
    {
      "cell_type": "code",
      "source": [
        "sentiment_test_path = \"/content/drive/MyDrive/MDS/COLX_565/data/Milstone-2-multilingual-sentiment-test-solutions.csv\"\n",
        "m2_multilang_sentiment_df = pd.read_csv(sentiment_test_path)\n",
        "\n",
        "m2_multilang_sentiment_df.head()"
      ],
      "metadata": {
        "colab": {
          "base_uri": "https://localhost:8080/",
          "height": 206
        },
        "id": "iILlxUTJgaDc",
        "outputId": "a3f7256d-51a8-47f5-8e75-ac2f8d0e9fbe"
      },
      "execution_count": 51,
      "outputs": [
        {
          "output_type": "execute_result",
          "data": {
            "text/plain": [
              "   sentence id                                           sentence class-label\n",
              "0            1  Ni kipaji gani! Hiki kipikiosafi kinafanya kaz...       mixed\n",
              "1            2  Ninapenda ubora wa picha, ila simu hii inajifu...       mixed\n",
              "2            3  Kweli, kozi hii ya mtandaoni inavutia, lakini ...    negative\n",
              "3            4  Nashukuru huduma ya haraka, lakini chakula kim...    negative\n",
              "4            5  Haya magari mapya ni mazuri, ila bei yake 'ina...       mixed"
            ],
            "text/html": [
              "\n",
              "  <div id=\"df-98e8fc86-5771-481c-9326-6e8651309a44\" class=\"colab-df-container\">\n",
              "    <div>\n",
              "<style scoped>\n",
              "    .dataframe tbody tr th:only-of-type {\n",
              "        vertical-align: middle;\n",
              "    }\n",
              "\n",
              "    .dataframe tbody tr th {\n",
              "        vertical-align: top;\n",
              "    }\n",
              "\n",
              "    .dataframe thead th {\n",
              "        text-align: right;\n",
              "    }\n",
              "</style>\n",
              "<table border=\"1\" class=\"dataframe\">\n",
              "  <thead>\n",
              "    <tr style=\"text-align: right;\">\n",
              "      <th></th>\n",
              "      <th>sentence id</th>\n",
              "      <th>sentence</th>\n",
              "      <th>class-label</th>\n",
              "    </tr>\n",
              "  </thead>\n",
              "  <tbody>\n",
              "    <tr>\n",
              "      <th>0</th>\n",
              "      <td>1</td>\n",
              "      <td>Ni kipaji gani! Hiki kipikiosafi kinafanya kaz...</td>\n",
              "      <td>mixed</td>\n",
              "    </tr>\n",
              "    <tr>\n",
              "      <th>1</th>\n",
              "      <td>2</td>\n",
              "      <td>Ninapenda ubora wa picha, ila simu hii inajifu...</td>\n",
              "      <td>mixed</td>\n",
              "    </tr>\n",
              "    <tr>\n",
              "      <th>2</th>\n",
              "      <td>3</td>\n",
              "      <td>Kweli, kozi hii ya mtandaoni inavutia, lakini ...</td>\n",
              "      <td>negative</td>\n",
              "    </tr>\n",
              "    <tr>\n",
              "      <th>3</th>\n",
              "      <td>4</td>\n",
              "      <td>Nashukuru huduma ya haraka, lakini chakula kim...</td>\n",
              "      <td>negative</td>\n",
              "    </tr>\n",
              "    <tr>\n",
              "      <th>4</th>\n",
              "      <td>5</td>\n",
              "      <td>Haya magari mapya ni mazuri, ila bei yake 'ina...</td>\n",
              "      <td>mixed</td>\n",
              "    </tr>\n",
              "  </tbody>\n",
              "</table>\n",
              "</div>\n",
              "    <div class=\"colab-df-buttons\">\n",
              "\n",
              "  <div class=\"colab-df-container\">\n",
              "    <button class=\"colab-df-convert\" onclick=\"convertToInteractive('df-98e8fc86-5771-481c-9326-6e8651309a44')\"\n",
              "            title=\"Convert this dataframe to an interactive table.\"\n",
              "            style=\"display:none;\">\n",
              "\n",
              "  <svg xmlns=\"http://www.w3.org/2000/svg\" height=\"24px\" viewBox=\"0 -960 960 960\">\n",
              "    <path d=\"M120-120v-720h720v720H120Zm60-500h600v-160H180v160Zm220 220h160v-160H400v160Zm0 220h160v-160H400v160ZM180-400h160v-160H180v160Zm440 0h160v-160H620v160ZM180-180h160v-160H180v160Zm440 0h160v-160H620v160Z\"/>\n",
              "  </svg>\n",
              "    </button>\n",
              "\n",
              "  <style>\n",
              "    .colab-df-container {\n",
              "      display:flex;\n",
              "      gap: 12px;\n",
              "    }\n",
              "\n",
              "    .colab-df-convert {\n",
              "      background-color: #E8F0FE;\n",
              "      border: none;\n",
              "      border-radius: 50%;\n",
              "      cursor: pointer;\n",
              "      display: none;\n",
              "      fill: #1967D2;\n",
              "      height: 32px;\n",
              "      padding: 0 0 0 0;\n",
              "      width: 32px;\n",
              "    }\n",
              "\n",
              "    .colab-df-convert:hover {\n",
              "      background-color: #E2EBFA;\n",
              "      box-shadow: 0px 1px 2px rgba(60, 64, 67, 0.3), 0px 1px 3px 1px rgba(60, 64, 67, 0.15);\n",
              "      fill: #174EA6;\n",
              "    }\n",
              "\n",
              "    .colab-df-buttons div {\n",
              "      margin-bottom: 4px;\n",
              "    }\n",
              "\n",
              "    [theme=dark] .colab-df-convert {\n",
              "      background-color: #3B4455;\n",
              "      fill: #D2E3FC;\n",
              "    }\n",
              "\n",
              "    [theme=dark] .colab-df-convert:hover {\n",
              "      background-color: #434B5C;\n",
              "      box-shadow: 0px 1px 3px 1px rgba(0, 0, 0, 0.15);\n",
              "      filter: drop-shadow(0px 1px 2px rgba(0, 0, 0, 0.3));\n",
              "      fill: #FFFFFF;\n",
              "    }\n",
              "  </style>\n",
              "\n",
              "    <script>\n",
              "      const buttonEl =\n",
              "        document.querySelector('#df-98e8fc86-5771-481c-9326-6e8651309a44 button.colab-df-convert');\n",
              "      buttonEl.style.display =\n",
              "        google.colab.kernel.accessAllowed ? 'block' : 'none';\n",
              "\n",
              "      async function convertToInteractive(key) {\n",
              "        const element = document.querySelector('#df-98e8fc86-5771-481c-9326-6e8651309a44');\n",
              "        const dataTable =\n",
              "          await google.colab.kernel.invokeFunction('convertToInteractive',\n",
              "                                                    [key], {});\n",
              "        if (!dataTable) return;\n",
              "\n",
              "        const docLinkHtml = 'Like what you see? Visit the ' +\n",
              "          '<a target=\"_blank\" href=https://colab.research.google.com/notebooks/data_table.ipynb>data table notebook</a>'\n",
              "          + ' to learn more about interactive tables.';\n",
              "        element.innerHTML = '';\n",
              "        dataTable['output_type'] = 'display_data';\n",
              "        await google.colab.output.renderOutput(dataTable, element);\n",
              "        const docLink = document.createElement('div');\n",
              "        docLink.innerHTML = docLinkHtml;\n",
              "        element.appendChild(docLink);\n",
              "      }\n",
              "    </script>\n",
              "  </div>\n",
              "\n",
              "\n",
              "<div id=\"df-164ffe32-7909-4944-9f61-6273f57bcd2f\">\n",
              "  <button class=\"colab-df-quickchart\" onclick=\"quickchart('df-164ffe32-7909-4944-9f61-6273f57bcd2f')\"\n",
              "            title=\"Suggest charts\"\n",
              "            style=\"display:none;\">\n",
              "\n",
              "<svg xmlns=\"http://www.w3.org/2000/svg\" height=\"24px\"viewBox=\"0 0 24 24\"\n",
              "     width=\"24px\">\n",
              "    <g>\n",
              "        <path d=\"M19 3H5c-1.1 0-2 .9-2 2v14c0 1.1.9 2 2 2h14c1.1 0 2-.9 2-2V5c0-1.1-.9-2-2-2zM9 17H7v-7h2v7zm4 0h-2V7h2v10zm4 0h-2v-4h2v4z\"/>\n",
              "    </g>\n",
              "</svg>\n",
              "  </button>\n",
              "\n",
              "<style>\n",
              "  .colab-df-quickchart {\n",
              "      --bg-color: #E8F0FE;\n",
              "      --fill-color: #1967D2;\n",
              "      --hover-bg-color: #E2EBFA;\n",
              "      --hover-fill-color: #174EA6;\n",
              "      --disabled-fill-color: #AAA;\n",
              "      --disabled-bg-color: #DDD;\n",
              "  }\n",
              "\n",
              "  [theme=dark] .colab-df-quickchart {\n",
              "      --bg-color: #3B4455;\n",
              "      --fill-color: #D2E3FC;\n",
              "      --hover-bg-color: #434B5C;\n",
              "      --hover-fill-color: #FFFFFF;\n",
              "      --disabled-bg-color: #3B4455;\n",
              "      --disabled-fill-color: #666;\n",
              "  }\n",
              "\n",
              "  .colab-df-quickchart {\n",
              "    background-color: var(--bg-color);\n",
              "    border: none;\n",
              "    border-radius: 50%;\n",
              "    cursor: pointer;\n",
              "    display: none;\n",
              "    fill: var(--fill-color);\n",
              "    height: 32px;\n",
              "    padding: 0;\n",
              "    width: 32px;\n",
              "  }\n",
              "\n",
              "  .colab-df-quickchart:hover {\n",
              "    background-color: var(--hover-bg-color);\n",
              "    box-shadow: 0 1px 2px rgba(60, 64, 67, 0.3), 0 1px 3px 1px rgba(60, 64, 67, 0.15);\n",
              "    fill: var(--button-hover-fill-color);\n",
              "  }\n",
              "\n",
              "  .colab-df-quickchart-complete:disabled,\n",
              "  .colab-df-quickchart-complete:disabled:hover {\n",
              "    background-color: var(--disabled-bg-color);\n",
              "    fill: var(--disabled-fill-color);\n",
              "    box-shadow: none;\n",
              "  }\n",
              "\n",
              "  .colab-df-spinner {\n",
              "    border: 2px solid var(--fill-color);\n",
              "    border-color: transparent;\n",
              "    border-bottom-color: var(--fill-color);\n",
              "    animation:\n",
              "      spin 1s steps(1) infinite;\n",
              "  }\n",
              "\n",
              "  @keyframes spin {\n",
              "    0% {\n",
              "      border-color: transparent;\n",
              "      border-bottom-color: var(--fill-color);\n",
              "      border-left-color: var(--fill-color);\n",
              "    }\n",
              "    20% {\n",
              "      border-color: transparent;\n",
              "      border-left-color: var(--fill-color);\n",
              "      border-top-color: var(--fill-color);\n",
              "    }\n",
              "    30% {\n",
              "      border-color: transparent;\n",
              "      border-left-color: var(--fill-color);\n",
              "      border-top-color: var(--fill-color);\n",
              "      border-right-color: var(--fill-color);\n",
              "    }\n",
              "    40% {\n",
              "      border-color: transparent;\n",
              "      border-right-color: var(--fill-color);\n",
              "      border-top-color: var(--fill-color);\n",
              "    }\n",
              "    60% {\n",
              "      border-color: transparent;\n",
              "      border-right-color: var(--fill-color);\n",
              "    }\n",
              "    80% {\n",
              "      border-color: transparent;\n",
              "      border-right-color: var(--fill-color);\n",
              "      border-bottom-color: var(--fill-color);\n",
              "    }\n",
              "    90% {\n",
              "      border-color: transparent;\n",
              "      border-bottom-color: var(--fill-color);\n",
              "    }\n",
              "  }\n",
              "</style>\n",
              "\n",
              "  <script>\n",
              "    async function quickchart(key) {\n",
              "      const quickchartButtonEl =\n",
              "        document.querySelector('#' + key + ' button');\n",
              "      quickchartButtonEl.disabled = true;  // To prevent multiple clicks.\n",
              "      quickchartButtonEl.classList.add('colab-df-spinner');\n",
              "      try {\n",
              "        const charts = await google.colab.kernel.invokeFunction(\n",
              "            'suggestCharts', [key], {});\n",
              "      } catch (error) {\n",
              "        console.error('Error during call to suggestCharts:', error);\n",
              "      }\n",
              "      quickchartButtonEl.classList.remove('colab-df-spinner');\n",
              "      quickchartButtonEl.classList.add('colab-df-quickchart-complete');\n",
              "    }\n",
              "    (() => {\n",
              "      let quickchartButtonEl =\n",
              "        document.querySelector('#df-164ffe32-7909-4944-9f61-6273f57bcd2f button');\n",
              "      quickchartButtonEl.style.display =\n",
              "        google.colab.kernel.accessAllowed ? 'block' : 'none';\n",
              "    })();\n",
              "  </script>\n",
              "</div>\n",
              "\n",
              "    </div>\n",
              "  </div>\n"
            ],
            "application/vnd.google.colaboratory.intrinsic+json": {
              "type": "dataframe",
              "variable_name": "m2_multilang_sentiment_df",
              "summary": "{\n  \"name\": \"m2_multilang_sentiment_df\",\n  \"rows\": 100,\n  \"fields\": [\n    {\n      \"column\": \"sentence id\",\n      \"properties\": {\n        \"dtype\": \"number\",\n        \"std\": 29,\n        \"min\": 1,\n        \"max\": 100,\n        \"num_unique_values\": 100,\n        \"samples\": [\n          84,\n          54,\n          71\n        ],\n        \"semantic_type\": \"\",\n        \"description\": \"\"\n      }\n    },\n    {\n      \"column\": \"sentence\",\n      \"properties\": {\n        \"dtype\": \"string\",\n        \"num_unique_values\": 100,\n        \"samples\": [\n          \"I admire the minimal packaging effort, but the product inside was half-broken anyway, so that\\u2019s a bummer.\",\n          \"Bruh, I can\\u2019t stand the loading times on this browser\\u2014it\\u2019s 2025, and I\\u2019m still waiting ages for pages to open.\",\n          \"This game\\u2019s graphics are insane, but the paywall for essential items kills the experience, bro.\"\n        ],\n        \"semantic_type\": \"\",\n        \"description\": \"\"\n      }\n    },\n    {\n      \"column\": \"class-label\",\n      \"properties\": {\n        \"dtype\": \"category\",\n        \"num_unique_values\": 3,\n        \"samples\": [\n          \"mixed\",\n          \"negative\",\n          \"positive\"\n        ],\n        \"semantic_type\": \"\",\n        \"description\": \"\"\n      }\n    }\n  ]\n}"
            }
          },
          "metadata": {},
          "execution_count": 51
        }
      ]
    },
    {
      "cell_type": "code",
      "source": [
        "# Function to invoke our model on the sentiment data\n",
        "\n",
        "def process_sentiment_row(text, max_retries=3):\n",
        "  \"\"\"Invokes our agentic model with a prompt requesting sentiment analysis on the input text.\"\"\"\n",
        "    for attempt in range(max_retries):\n",
        "        try:\n",
        "            output = json.loads(agent_executor.invoke({\"input\": f\"Please perform sentiment analysis: {text}\", \"format_instructions\": format_instructions})['output'])\n",
        "\n",
        "            # Get the sentiment label and explanation\n",
        "            sentiment_label = output['sentiment']\n",
        "            sentiment_explanation = output['sentiment_explanation']\n",
        "\n",
        "            # Ensure both keys are present, else raise an error and re-prompt\n",
        "            if sentiment_label is None or sentiment_explanation is None:\n",
        "                raise ValueError(\"Missing sentiment_label or sentiment_explanation in output.\")\n",
        "\n",
        "            return sentiment_label, sentiment_explanation\n",
        "\n",
        "        except Exception as e:\n",
        "            print(f\"Attempt {attempt + 1} failed for text: {text[:30]}... Error: {e}\")\n",
        "\n",
        "    # If all attempts fail, return default values\n",
        "    return \"Failed to process after 3 attempts.\""
      ],
      "metadata": {
        "id": "2U1knp47AQPR"
      },
      "execution_count": 75,
      "outputs": []
    },
    {
      "cell_type": "code",
      "source": [
        "# Function to invoke our model on the toxicity data\n",
        "\n",
        "def process_toxicity_row(text, max_retries=3):\n",
        "  \"\"\"Invokes our agentic model with a prompt requesting sentiment analysis on the input text.\"\"\"\n",
        "  for attempt in range(max_retries):\n",
        "        try:\n",
        "            output = json.loads(agent_executor.invoke({\"input\": f\"Please perform toxicity analysis: {text}\", \"format_instructions\": format_instructions})['output'])\n",
        "            detox_output = json.loads(agent_executor.invoke({\"input\": f\"Please perform detoxification: {text}\", \"format_instructions\": format_instructions})['output'])\n",
        "\n",
        "            # Get the toxicity label and explanation + detoxified text\n",
        "            toxicity_label = output['toxicity']\n",
        "            toxicity_explanation = output['toxicity_explanation']\n",
        "            detoxified_text = detox_output['detoxified_text']\n",
        "\n",
        "            # Ensure all keys are present, else raise an error and re-prompt\n",
        "            if toxicity_label is None or toxicity_explanation is None or detoxified_text is None:\n",
        "                raise ValueError(\"Missing toxicity_label, toxicity_explanation, or detoxified_text in output.\")\n",
        "\n",
        "            return toxicity_label, toxicity_explanation, detoxified_text\n",
        "\n",
        "        except Exception as e:\n",
        "            print(f\"Attempt {attempt + 1} failed for text: {text[:30]}... Error: {e}\")\n",
        "\n",
        "    # If all attempts fail, return default values\n",
        "  return \"Failed to process after 3 attempts.\""
      ],
      "metadata": {
        "id": "MluHIpvDLtQO"
      },
      "execution_count": 107,
      "outputs": []
    },
    {
      "cell_type": "code",
      "source": [
        "process_toxicity_row(\"You're a stupid idiot and nobody cares about you.\")"
      ],
      "metadata": {
        "colab": {
          "base_uri": "https://localhost:8080/"
        },
        "id": "UiMzdT4JMsPb",
        "outputId": "175a9d50-a3b3-42b5-b002-f520086db76b"
      },
      "execution_count": 108,
      "outputs": [
        {
          "output_type": "execute_result",
          "data": {
            "text/plain": [
              "('toxic',\n",
              " 'The sentence contains direct personal attacks and disrespectful language, indicating high toxicity.',\n",
              " \"There's no need to resort to such language. Everyone deserves respect.\")"
            ]
          },
          "metadata": {},
          "execution_count": 108
        }
      ]
    },
    {
      "cell_type": "code",
      "source": [
        "# Loop through our sentiment df and invoke the agent on each example\n",
        "\n",
        "sentiment_results = []\n",
        "for sentence in m2_multilang_sentiment_df[\"sentence\"]:\n",
        "    sentiment, explanation = process_sentiment_row(sentence)\n",
        "    sentiment_results.append({\"sentiment\": sentiment, \"explanation\": explanation})\n",
        "\n",
        "m2_multilang_sentiment_df[\"prediction\"] = [res[\"sentiment\"] for res in sentiment_results]\n",
        "m2_multilang_sentiment_df[\"explanation\"] = [res[\"explanation\"] for res in sentiment_results]\n",
        "\n",
        "true_sentiment = m2_multilang_sentiment_df[\"class-label\"]\n",
        "pred_sentiment = m2_multilang_sentiment_df[\"prediction\"]\n",
        "\n",
        "precision, recall, f1, _ = precision_recall_fscore_support(true_sentiment, pred_sentiment, average=\"macro\")\n",
        "accuracy = accuracy_score(true_sentiment, pred_sentiment)"
      ],
      "metadata": {
        "id": "7HLrhIe2_2OJ"
      },
      "execution_count": 82,
      "outputs": []
    },
    {
      "cell_type": "code",
      "source": [
        "# Load toxicity data\n",
        "\n",
        "toxicity_test_path = \"/content/drive/MyDrive/MDS/COLX_565/data/Milestone-2-toxic-test-solutions.csv\"\n",
        "m2_toxicity_df = pd.read_csv(toxicity_test_path)\n",
        "\n",
        "m2_toxicity_df.head()"
      ],
      "metadata": {
        "colab": {
          "base_uri": "https://localhost:8080/",
          "height": 293
        },
        "id": "V3HsdpHOLi5Q",
        "outputId": "4cc29d0d-9a58-420e-d736-5a909eee32b1"
      },
      "execution_count": 101,
      "outputs": [
        {
          "output_type": "execute_result",
          "data": {
            "text/plain": [
              "   data_id  sample_id                                               text  \\\n",
              "0   111252          0  I know he's an idiot I think he might of been ...   \n",
              "1   152758          1    ==my butthole==  i love buttholes. they tast...   \n",
              "2   126091          2  This is absolute bullshit! We fucking knew thi...   \n",
              "3    28115          3  Moochelle Nobama takes swipe at Trump it sez. ...   \n",
              "4     2997          4  2. \\t> Lol, I guessed IPN (the Institue of Nat...   \n",
              "\n",
              "  source_label   platform  \n",
              "0        toxic  wikipedia  \n",
              "1        toxic  wikipedia  \n",
              "2    non-toxic   fox news  \n",
              "3        toxic   fox news  \n",
              "4        toxic     reddit  "
            ],
            "text/html": [
              "\n",
              "  <div id=\"df-248dd88f-0653-42a8-bb1f-04e759932eee\" class=\"colab-df-container\">\n",
              "    <div>\n",
              "<style scoped>\n",
              "    .dataframe tbody tr th:only-of-type {\n",
              "        vertical-align: middle;\n",
              "    }\n",
              "\n",
              "    .dataframe tbody tr th {\n",
              "        vertical-align: top;\n",
              "    }\n",
              "\n",
              "    .dataframe thead th {\n",
              "        text-align: right;\n",
              "    }\n",
              "</style>\n",
              "<table border=\"1\" class=\"dataframe\">\n",
              "  <thead>\n",
              "    <tr style=\"text-align: right;\">\n",
              "      <th></th>\n",
              "      <th>data_id</th>\n",
              "      <th>sample_id</th>\n",
              "      <th>text</th>\n",
              "      <th>source_label</th>\n",
              "      <th>platform</th>\n",
              "    </tr>\n",
              "  </thead>\n",
              "  <tbody>\n",
              "    <tr>\n",
              "      <th>0</th>\n",
              "      <td>111252</td>\n",
              "      <td>0</td>\n",
              "      <td>I know he's an idiot I think he might of been ...</td>\n",
              "      <td>toxic</td>\n",
              "      <td>wikipedia</td>\n",
              "    </tr>\n",
              "    <tr>\n",
              "      <th>1</th>\n",
              "      <td>152758</td>\n",
              "      <td>1</td>\n",
              "      <td>==my butthole==  i love buttholes. they tast...</td>\n",
              "      <td>toxic</td>\n",
              "      <td>wikipedia</td>\n",
              "    </tr>\n",
              "    <tr>\n",
              "      <th>2</th>\n",
              "      <td>126091</td>\n",
              "      <td>2</td>\n",
              "      <td>This is absolute bullshit! We fucking knew thi...</td>\n",
              "      <td>non-toxic</td>\n",
              "      <td>fox news</td>\n",
              "    </tr>\n",
              "    <tr>\n",
              "      <th>3</th>\n",
              "      <td>28115</td>\n",
              "      <td>3</td>\n",
              "      <td>Moochelle Nobama takes swipe at Trump it sez. ...</td>\n",
              "      <td>toxic</td>\n",
              "      <td>fox news</td>\n",
              "    </tr>\n",
              "    <tr>\n",
              "      <th>4</th>\n",
              "      <td>2997</td>\n",
              "      <td>4</td>\n",
              "      <td>2. \\t&gt; Lol, I guessed IPN (the Institue of Nat...</td>\n",
              "      <td>toxic</td>\n",
              "      <td>reddit</td>\n",
              "    </tr>\n",
              "  </tbody>\n",
              "</table>\n",
              "</div>\n",
              "    <div class=\"colab-df-buttons\">\n",
              "\n",
              "  <div class=\"colab-df-container\">\n",
              "    <button class=\"colab-df-convert\" onclick=\"convertToInteractive('df-248dd88f-0653-42a8-bb1f-04e759932eee')\"\n",
              "            title=\"Convert this dataframe to an interactive table.\"\n",
              "            style=\"display:none;\">\n",
              "\n",
              "  <svg xmlns=\"http://www.w3.org/2000/svg\" height=\"24px\" viewBox=\"0 -960 960 960\">\n",
              "    <path d=\"M120-120v-720h720v720H120Zm60-500h600v-160H180v160Zm220 220h160v-160H400v160Zm0 220h160v-160H400v160ZM180-400h160v-160H180v160Zm440 0h160v-160H620v160ZM180-180h160v-160H180v160Zm440 0h160v-160H620v160Z\"/>\n",
              "  </svg>\n",
              "    </button>\n",
              "\n",
              "  <style>\n",
              "    .colab-df-container {\n",
              "      display:flex;\n",
              "      gap: 12px;\n",
              "    }\n",
              "\n",
              "    .colab-df-convert {\n",
              "      background-color: #E8F0FE;\n",
              "      border: none;\n",
              "      border-radius: 50%;\n",
              "      cursor: pointer;\n",
              "      display: none;\n",
              "      fill: #1967D2;\n",
              "      height: 32px;\n",
              "      padding: 0 0 0 0;\n",
              "      width: 32px;\n",
              "    }\n",
              "\n",
              "    .colab-df-convert:hover {\n",
              "      background-color: #E2EBFA;\n",
              "      box-shadow: 0px 1px 2px rgba(60, 64, 67, 0.3), 0px 1px 3px 1px rgba(60, 64, 67, 0.15);\n",
              "      fill: #174EA6;\n",
              "    }\n",
              "\n",
              "    .colab-df-buttons div {\n",
              "      margin-bottom: 4px;\n",
              "    }\n",
              "\n",
              "    [theme=dark] .colab-df-convert {\n",
              "      background-color: #3B4455;\n",
              "      fill: #D2E3FC;\n",
              "    }\n",
              "\n",
              "    [theme=dark] .colab-df-convert:hover {\n",
              "      background-color: #434B5C;\n",
              "      box-shadow: 0px 1px 3px 1px rgba(0, 0, 0, 0.15);\n",
              "      filter: drop-shadow(0px 1px 2px rgba(0, 0, 0, 0.3));\n",
              "      fill: #FFFFFF;\n",
              "    }\n",
              "  </style>\n",
              "\n",
              "    <script>\n",
              "      const buttonEl =\n",
              "        document.querySelector('#df-248dd88f-0653-42a8-bb1f-04e759932eee button.colab-df-convert');\n",
              "      buttonEl.style.display =\n",
              "        google.colab.kernel.accessAllowed ? 'block' : 'none';\n",
              "\n",
              "      async function convertToInteractive(key) {\n",
              "        const element = document.querySelector('#df-248dd88f-0653-42a8-bb1f-04e759932eee');\n",
              "        const dataTable =\n",
              "          await google.colab.kernel.invokeFunction('convertToInteractive',\n",
              "                                                    [key], {});\n",
              "        if (!dataTable) return;\n",
              "\n",
              "        const docLinkHtml = 'Like what you see? Visit the ' +\n",
              "          '<a target=\"_blank\" href=https://colab.research.google.com/notebooks/data_table.ipynb>data table notebook</a>'\n",
              "          + ' to learn more about interactive tables.';\n",
              "        element.innerHTML = '';\n",
              "        dataTable['output_type'] = 'display_data';\n",
              "        await google.colab.output.renderOutput(dataTable, element);\n",
              "        const docLink = document.createElement('div');\n",
              "        docLink.innerHTML = docLinkHtml;\n",
              "        element.appendChild(docLink);\n",
              "      }\n",
              "    </script>\n",
              "  </div>\n",
              "\n",
              "\n",
              "<div id=\"df-38ea14f8-caba-4cf7-a6ad-6ec40ef5f462\">\n",
              "  <button class=\"colab-df-quickchart\" onclick=\"quickchart('df-38ea14f8-caba-4cf7-a6ad-6ec40ef5f462')\"\n",
              "            title=\"Suggest charts\"\n",
              "            style=\"display:none;\">\n",
              "\n",
              "<svg xmlns=\"http://www.w3.org/2000/svg\" height=\"24px\"viewBox=\"0 0 24 24\"\n",
              "     width=\"24px\">\n",
              "    <g>\n",
              "        <path d=\"M19 3H5c-1.1 0-2 .9-2 2v14c0 1.1.9 2 2 2h14c1.1 0 2-.9 2-2V5c0-1.1-.9-2-2-2zM9 17H7v-7h2v7zm4 0h-2V7h2v10zm4 0h-2v-4h2v4z\"/>\n",
              "    </g>\n",
              "</svg>\n",
              "  </button>\n",
              "\n",
              "<style>\n",
              "  .colab-df-quickchart {\n",
              "      --bg-color: #E8F0FE;\n",
              "      --fill-color: #1967D2;\n",
              "      --hover-bg-color: #E2EBFA;\n",
              "      --hover-fill-color: #174EA6;\n",
              "      --disabled-fill-color: #AAA;\n",
              "      --disabled-bg-color: #DDD;\n",
              "  }\n",
              "\n",
              "  [theme=dark] .colab-df-quickchart {\n",
              "      --bg-color: #3B4455;\n",
              "      --fill-color: #D2E3FC;\n",
              "      --hover-bg-color: #434B5C;\n",
              "      --hover-fill-color: #FFFFFF;\n",
              "      --disabled-bg-color: #3B4455;\n",
              "      --disabled-fill-color: #666;\n",
              "  }\n",
              "\n",
              "  .colab-df-quickchart {\n",
              "    background-color: var(--bg-color);\n",
              "    border: none;\n",
              "    border-radius: 50%;\n",
              "    cursor: pointer;\n",
              "    display: none;\n",
              "    fill: var(--fill-color);\n",
              "    height: 32px;\n",
              "    padding: 0;\n",
              "    width: 32px;\n",
              "  }\n",
              "\n",
              "  .colab-df-quickchart:hover {\n",
              "    background-color: var(--hover-bg-color);\n",
              "    box-shadow: 0 1px 2px rgba(60, 64, 67, 0.3), 0 1px 3px 1px rgba(60, 64, 67, 0.15);\n",
              "    fill: var(--button-hover-fill-color);\n",
              "  }\n",
              "\n",
              "  .colab-df-quickchart-complete:disabled,\n",
              "  .colab-df-quickchart-complete:disabled:hover {\n",
              "    background-color: var(--disabled-bg-color);\n",
              "    fill: var(--disabled-fill-color);\n",
              "    box-shadow: none;\n",
              "  }\n",
              "\n",
              "  .colab-df-spinner {\n",
              "    border: 2px solid var(--fill-color);\n",
              "    border-color: transparent;\n",
              "    border-bottom-color: var(--fill-color);\n",
              "    animation:\n",
              "      spin 1s steps(1) infinite;\n",
              "  }\n",
              "\n",
              "  @keyframes spin {\n",
              "    0% {\n",
              "      border-color: transparent;\n",
              "      border-bottom-color: var(--fill-color);\n",
              "      border-left-color: var(--fill-color);\n",
              "    }\n",
              "    20% {\n",
              "      border-color: transparent;\n",
              "      border-left-color: var(--fill-color);\n",
              "      border-top-color: var(--fill-color);\n",
              "    }\n",
              "    30% {\n",
              "      border-color: transparent;\n",
              "      border-left-color: var(--fill-color);\n",
              "      border-top-color: var(--fill-color);\n",
              "      border-right-color: var(--fill-color);\n",
              "    }\n",
              "    40% {\n",
              "      border-color: transparent;\n",
              "      border-right-color: var(--fill-color);\n",
              "      border-top-color: var(--fill-color);\n",
              "    }\n",
              "    60% {\n",
              "      border-color: transparent;\n",
              "      border-right-color: var(--fill-color);\n",
              "    }\n",
              "    80% {\n",
              "      border-color: transparent;\n",
              "      border-right-color: var(--fill-color);\n",
              "      border-bottom-color: var(--fill-color);\n",
              "    }\n",
              "    90% {\n",
              "      border-color: transparent;\n",
              "      border-bottom-color: var(--fill-color);\n",
              "    }\n",
              "  }\n",
              "</style>\n",
              "\n",
              "  <script>\n",
              "    async function quickchart(key) {\n",
              "      const quickchartButtonEl =\n",
              "        document.querySelector('#' + key + ' button');\n",
              "      quickchartButtonEl.disabled = true;  // To prevent multiple clicks.\n",
              "      quickchartButtonEl.classList.add('colab-df-spinner');\n",
              "      try {\n",
              "        const charts = await google.colab.kernel.invokeFunction(\n",
              "            'suggestCharts', [key], {});\n",
              "      } catch (error) {\n",
              "        console.error('Error during call to suggestCharts:', error);\n",
              "      }\n",
              "      quickchartButtonEl.classList.remove('colab-df-spinner');\n",
              "      quickchartButtonEl.classList.add('colab-df-quickchart-complete');\n",
              "    }\n",
              "    (() => {\n",
              "      let quickchartButtonEl =\n",
              "        document.querySelector('#df-38ea14f8-caba-4cf7-a6ad-6ec40ef5f462 button');\n",
              "      quickchartButtonEl.style.display =\n",
              "        google.colab.kernel.accessAllowed ? 'block' : 'none';\n",
              "    })();\n",
              "  </script>\n",
              "</div>\n",
              "\n",
              "    </div>\n",
              "  </div>\n"
            ],
            "application/vnd.google.colaboratory.intrinsic+json": {
              "type": "dataframe",
              "variable_name": "m2_toxicity_df",
              "summary": "{\n  \"name\": \"m2_toxicity_df\",\n  \"rows\": 100,\n  \"fields\": [\n    {\n      \"column\": \"data_id\",\n      \"properties\": {\n        \"dtype\": \"number\",\n        \"std\": 46110,\n        \"min\": 1990,\n        \"max\": 157993,\n        \"num_unique_values\": 100,\n        \"samples\": [\n          36710,\n          11454,\n          38749\n        ],\n        \"semantic_type\": \"\",\n        \"description\": \"\"\n      }\n    },\n    {\n      \"column\": \"sample_id\",\n      \"properties\": {\n        \"dtype\": \"number\",\n        \"std\": 29,\n        \"min\": 0,\n        \"max\": 99,\n        \"num_unique_values\": 100,\n        \"samples\": [\n          83,\n          53,\n          70\n        ],\n        \"semantic_type\": \"\",\n        \"description\": \"\"\n      }\n    },\n    {\n      \"column\": \"text\",\n      \"properties\": {\n        \"dtype\": \"string\",\n        \"num_unique_values\": 100,\n        \"samples\": [\n          \"  Yeah...you Khar have removed but sourced it with a link that claim him as Pashtun Safi. Just one question. If Pashtuns were not so shameless and so pathetic poor...why should they borrow Persian names for their dirty people and tribes? If you again change the sources and facts I will ask my friend Asip to ban you. Last warning! Keep your dirty salafit sources in your a** for your sister or brother and kundad-hari-boy-friends  \",\n          \"how the hell did we manage to fucking disappoint the goddamn overrated mike posner band like this? i'm so fucking ashamed and utterly humiliated. https://t.co/XQdWqEBVau\",\n          \"2. \\tLike that is going to happen,he is two folds a protected species a demoncrap and a nigger\"\n        ],\n        \"semantic_type\": \"\",\n        \"description\": \"\"\n      }\n    },\n    {\n      \"column\": \"source_label\",\n      \"properties\": {\n        \"dtype\": \"category\",\n        \"num_unique_values\": 2,\n        \"samples\": [\n          \"non-toxic\",\n          \"toxic\"\n        ],\n        \"semantic_type\": \"\",\n        \"description\": \"\"\n      }\n    },\n    {\n      \"column\": \"platform\",\n      \"properties\": {\n        \"dtype\": \"category\",\n        \"num_unique_values\": 11,\n        \"samples\": [\n          \"gab\",\n          \"wikipedia\"\n        ],\n        \"semantic_type\": \"\",\n        \"description\": \"\"\n      }\n    }\n  ]\n}"
            }
          },
          "metadata": {},
          "execution_count": 101
        }
      ]
    },
    {
      "cell_type": "code",
      "source": [
        "# Loop through the toxicity data and invoke the agent on each example\n",
        "\n",
        "toxicity_results = []\n",
        "for sentence in m2_toxicity_df[\"text\"]:\n",
        "    toxicity, explanation, detoxified_text = process_toxicity_row(sentence)\n",
        "    toxicity_results.append({\"toxicity\": toxicity, \"explanation\": explanation, \"detoxified_text\": detoxified_text})\n",
        "\n",
        "m2_toxicity_df[\"prediction\"] = [res[\"toxicity\"] for res in toxicity_results]\n",
        "m2_toxicity_df[\"explanation\"] = [res[\"explanation\"] for res in toxicity_results]\n",
        "m2_toxicity_df[\"detoxified_text\"] = [res[\"detoxified_text\"] for res in toxicity_results]\n",
        "\n",
        "# compute evaluation metrics\n",
        "true_toxicity = m2_toxicity_df[\"source_label\"]\n",
        "pred_toxicity = m2_toxicity_df[\"prediction\"]\n",
        "\n",
        "tox_precision, tox_recall, tox_f1, _ = precision_recall_fscore_support(true_toxicity, pred_toxicity, average=\"macro\")\n",
        "tox_accuracy = accuracy_score(true_toxicity, pred_toxicity)"
      ],
      "metadata": {
        "id": "J-xFe7rrggVr"
      },
      "execution_count": 110,
      "outputs": []
    },
    {
      "cell_type": "code",
      "source": [
        "m2_multilang_sentiment_df.to_csv(\"sentiment_analysis_results.csv\", index=False)\n",
        "m2_toxicity_df.to_csv(\"toxicity_analysis_results.csv\", index=False)"
      ],
      "metadata": {
        "id": "-75jVpYpkfPV"
      },
      "execution_count": 113,
      "outputs": []
    },
    {
      "cell_type": "code",
      "source": [
        "# Let's see how our agent did:\n",
        "\n",
        "print(\"Sentiment Analysis Evaluation:\")\n",
        "print(f\"Accuracy: {accuracy:.3f}\")\n",
        "print(f\"Precision: {precision:.3f}\")\n",
        "print(f\"Recall: {recall:.3f}\")\n",
        "print(f\"F1 Score: {f1:.3f}\")"
      ],
      "metadata": {
        "colab": {
          "base_uri": "https://localhost:8080/"
        },
        "id": "e-6y1y6_w5Sk",
        "outputId": "9603e719-a4ae-44f3-cff7-f97b2a6fc80e"
      },
      "execution_count": 84,
      "outputs": [
        {
          "output_type": "stream",
          "name": "stdout",
          "text": [
            "Sentiment Analysis Evaluation:\n",
            "Accuracy: 0.650\n",
            "Precision: 0.635\n",
            "Recall: 0.664\n",
            "F1 Score: 0.634\n"
          ]
        }
      ]
    },
    {
      "cell_type": "code",
      "source": [
        "print(\"\\nToxicity Detection Evaluation:\")\n",
        "print(f\"Accuracy: {tox_accuracy:.3f} \")\n",
        "print(f\"Precision: {tox_precision:.3f}\")\n",
        "print(f\"Recall: {tox_recall:.3f}\")\n",
        "print(f\"F1 Score: {tox_f1:.3f}\")"
      ],
      "metadata": {
        "colab": {
          "base_uri": "https://localhost:8080/"
        },
        "id": "zITNR2I6iwyZ",
        "outputId": "b15ec3fd-1465-495f-b73e-bd6a20b5822e"
      },
      "execution_count": 111,
      "outputs": [
        {
          "output_type": "stream",
          "name": "stdout",
          "text": [
            "\n",
            "Toxicity Detection Evaluation:\n",
            "Accuracy: 0.560 \n",
            "Precision: 0.292\n",
            "Recall: 0.467\n",
            "F1 Score: 0.359\n"
          ]
        }
      ]
    },
    {
      "cell_type": "markdown",
      "source": [
        "Detoxify:"
      ],
      "metadata": {
        "id": "n8Hayuekr3XF"
      }
    },
    {
      "cell_type": "code",
      "source": [
        "# Display first few rows of the DataFrame\n",
        "print(m2_toxicity_df[[\"text\", \"prediction\", \"detoxified_text\"]].head())"
      ],
      "metadata": {
        "colab": {
          "base_uri": "https://localhost:8080/"
        },
        "id": "YONEvnjBuieu",
        "outputId": "5f5d090d-3349-4886-94d6-15608bc72427"
      },
      "execution_count": 112,
      "outputs": [
        {
          "output_type": "stream",
          "name": "stdout",
          "text": [
            "                                                text prediction  \\\n",
            "0  I know he's an idiot I think he might of been ...      toxic   \n",
            "1    ==my butthole==  i love buttholes. they tast...      toxic   \n",
            "2  This is absolute bullshit! We fucking knew thi...      toxic   \n",
            "3  Moochelle Nobama takes swipe at Trump it sez. ...      toxic   \n",
            "4  2. \\t> Lol, I guessed IPN (the Institue of Nat...      toxic   \n",
            "\n",
            "                                     detoxified_text  \n",
            "0  I have an opinion that he might have been held...  \n",
            "1  I love buttholes. They taste good. I will cont...  \n",
            "2  This situation is concerning. We anticipated t...  \n",
            "3  Michelle Obama takes a swipe at Trump, he shou...  \n",
            "4  I anticipated IPN (the Institute of National R...  \n"
          ]
        }
      ]
    }
  ],
  "metadata": {
    "colab": {
      "provenance": [],
      "gpuType": "T4",
      "machine_shape": "hm"
    },
    "kernelspec": {
      "display_name": "Python 3",
      "name": "python3"
    },
    "language_info": {
      "codemirror_mode": {
        "name": "ipython",
        "version": 3
      },
      "file_extension": ".py",
      "mimetype": "text/x-python",
      "name": "python",
      "nbconvert_exporter": "python",
      "pygments_lexer": "ipython3",
      "version": "3.11.11"
    },
    "widgets": {
      "application/vnd.jupyter.widget-state+json": {
        "ea0955ced4114eeba3274cfe5d4b74ca": {
          "model_module": "@jupyter-widgets/controls",
          "model_name": "HBoxModel",
          "model_module_version": "1.5.0",
          "state": {
            "_dom_classes": [],
            "_model_module": "@jupyter-widgets/controls",
            "_model_module_version": "1.5.0",
            "_model_name": "HBoxModel",
            "_view_count": null,
            "_view_module": "@jupyter-widgets/controls",
            "_view_module_version": "1.5.0",
            "_view_name": "HBoxView",
            "box_style": "",
            "children": [
              "IPY_MODEL_713c8f77dcb04ea2ba65cf8e886bc2ec",
              "IPY_MODEL_619cbc5bbd5a40239e48e362b97985e2",
              "IPY_MODEL_6f68ca4fe2dd4b698f0a6fa2b2bdb069"
            ],
            "layout": "IPY_MODEL_f5479226996542da80476309845cfbeb"
          }
        },
        "713c8f77dcb04ea2ba65cf8e886bc2ec": {
          "model_module": "@jupyter-widgets/controls",
          "model_name": "HTMLModel",
          "model_module_version": "1.5.0",
          "state": {
            "_dom_classes": [],
            "_model_module": "@jupyter-widgets/controls",
            "_model_module_version": "1.5.0",
            "_model_name": "HTMLModel",
            "_view_count": null,
            "_view_module": "@jupyter-widgets/controls",
            "_view_module_version": "1.5.0",
            "_view_name": "HTMLView",
            "description": "",
            "description_tooltip": null,
            "layout": "IPY_MODEL_20e7ca1218b84417aad97685b89b2ecf",
            "placeholder": "​",
            "style": "IPY_MODEL_e724680aec684e7dad3f37cb5bf82281",
            "value": "Loading checkpoint shards: 100%"
          }
        },
        "619cbc5bbd5a40239e48e362b97985e2": {
          "model_module": "@jupyter-widgets/controls",
          "model_name": "FloatProgressModel",
          "model_module_version": "1.5.0",
          "state": {
            "_dom_classes": [],
            "_model_module": "@jupyter-widgets/controls",
            "_model_module_version": "1.5.0",
            "_model_name": "FloatProgressModel",
            "_view_count": null,
            "_view_module": "@jupyter-widgets/controls",
            "_view_module_version": "1.5.0",
            "_view_name": "ProgressView",
            "bar_style": "success",
            "description": "",
            "description_tooltip": null,
            "layout": "IPY_MODEL_9d45d3712a084145921b734757fb7dc7",
            "max": 2,
            "min": 0,
            "orientation": "horizontal",
            "style": "IPY_MODEL_1108d270c77944b18394e14a7d3e0a53",
            "value": 2
          }
        },
        "6f68ca4fe2dd4b698f0a6fa2b2bdb069": {
          "model_module": "@jupyter-widgets/controls",
          "model_name": "HTMLModel",
          "model_module_version": "1.5.0",
          "state": {
            "_dom_classes": [],
            "_model_module": "@jupyter-widgets/controls",
            "_model_module_version": "1.5.0",
            "_model_name": "HTMLModel",
            "_view_count": null,
            "_view_module": "@jupyter-widgets/controls",
            "_view_module_version": "1.5.0",
            "_view_name": "HTMLView",
            "description": "",
            "description_tooltip": null,
            "layout": "IPY_MODEL_b3b2200ef11e4ba49ed6690d7d471088",
            "placeholder": "​",
            "style": "IPY_MODEL_3daef7c874f6496fabf4301d3b5cdcd9",
            "value": " 2/2 [00:03&lt;00:00,  1.39s/it]"
          }
        },
        "f5479226996542da80476309845cfbeb": {
          "model_module": "@jupyter-widgets/base",
          "model_name": "LayoutModel",
          "model_module_version": "1.2.0",
          "state": {
            "_model_module": "@jupyter-widgets/base",
            "_model_module_version": "1.2.0",
            "_model_name": "LayoutModel",
            "_view_count": null,
            "_view_module": "@jupyter-widgets/base",
            "_view_module_version": "1.2.0",
            "_view_name": "LayoutView",
            "align_content": null,
            "align_items": null,
            "align_self": null,
            "border": null,
            "bottom": null,
            "display": null,
            "flex": null,
            "flex_flow": null,
            "grid_area": null,
            "grid_auto_columns": null,
            "grid_auto_flow": null,
            "grid_auto_rows": null,
            "grid_column": null,
            "grid_gap": null,
            "grid_row": null,
            "grid_template_areas": null,
            "grid_template_columns": null,
            "grid_template_rows": null,
            "height": null,
            "justify_content": null,
            "justify_items": null,
            "left": null,
            "margin": null,
            "max_height": null,
            "max_width": null,
            "min_height": null,
            "min_width": null,
            "object_fit": null,
            "object_position": null,
            "order": null,
            "overflow": null,
            "overflow_x": null,
            "overflow_y": null,
            "padding": null,
            "right": null,
            "top": null,
            "visibility": null,
            "width": null
          }
        },
        "20e7ca1218b84417aad97685b89b2ecf": {
          "model_module": "@jupyter-widgets/base",
          "model_name": "LayoutModel",
          "model_module_version": "1.2.0",
          "state": {
            "_model_module": "@jupyter-widgets/base",
            "_model_module_version": "1.2.0",
            "_model_name": "LayoutModel",
            "_view_count": null,
            "_view_module": "@jupyter-widgets/base",
            "_view_module_version": "1.2.0",
            "_view_name": "LayoutView",
            "align_content": null,
            "align_items": null,
            "align_self": null,
            "border": null,
            "bottom": null,
            "display": null,
            "flex": null,
            "flex_flow": null,
            "grid_area": null,
            "grid_auto_columns": null,
            "grid_auto_flow": null,
            "grid_auto_rows": null,
            "grid_column": null,
            "grid_gap": null,
            "grid_row": null,
            "grid_template_areas": null,
            "grid_template_columns": null,
            "grid_template_rows": null,
            "height": null,
            "justify_content": null,
            "justify_items": null,
            "left": null,
            "margin": null,
            "max_height": null,
            "max_width": null,
            "min_height": null,
            "min_width": null,
            "object_fit": null,
            "object_position": null,
            "order": null,
            "overflow": null,
            "overflow_x": null,
            "overflow_y": null,
            "padding": null,
            "right": null,
            "top": null,
            "visibility": null,
            "width": null
          }
        },
        "e724680aec684e7dad3f37cb5bf82281": {
          "model_module": "@jupyter-widgets/controls",
          "model_name": "DescriptionStyleModel",
          "model_module_version": "1.5.0",
          "state": {
            "_model_module": "@jupyter-widgets/controls",
            "_model_module_version": "1.5.0",
            "_model_name": "DescriptionStyleModel",
            "_view_count": null,
            "_view_module": "@jupyter-widgets/base",
            "_view_module_version": "1.2.0",
            "_view_name": "StyleView",
            "description_width": ""
          }
        },
        "9d45d3712a084145921b734757fb7dc7": {
          "model_module": "@jupyter-widgets/base",
          "model_name": "LayoutModel",
          "model_module_version": "1.2.0",
          "state": {
            "_model_module": "@jupyter-widgets/base",
            "_model_module_version": "1.2.0",
            "_model_name": "LayoutModel",
            "_view_count": null,
            "_view_module": "@jupyter-widgets/base",
            "_view_module_version": "1.2.0",
            "_view_name": "LayoutView",
            "align_content": null,
            "align_items": null,
            "align_self": null,
            "border": null,
            "bottom": null,
            "display": null,
            "flex": null,
            "flex_flow": null,
            "grid_area": null,
            "grid_auto_columns": null,
            "grid_auto_flow": null,
            "grid_auto_rows": null,
            "grid_column": null,
            "grid_gap": null,
            "grid_row": null,
            "grid_template_areas": null,
            "grid_template_columns": null,
            "grid_template_rows": null,
            "height": null,
            "justify_content": null,
            "justify_items": null,
            "left": null,
            "margin": null,
            "max_height": null,
            "max_width": null,
            "min_height": null,
            "min_width": null,
            "object_fit": null,
            "object_position": null,
            "order": null,
            "overflow": null,
            "overflow_x": null,
            "overflow_y": null,
            "padding": null,
            "right": null,
            "top": null,
            "visibility": null,
            "width": null
          }
        },
        "1108d270c77944b18394e14a7d3e0a53": {
          "model_module": "@jupyter-widgets/controls",
          "model_name": "ProgressStyleModel",
          "model_module_version": "1.5.0",
          "state": {
            "_model_module": "@jupyter-widgets/controls",
            "_model_module_version": "1.5.0",
            "_model_name": "ProgressStyleModel",
            "_view_count": null,
            "_view_module": "@jupyter-widgets/base",
            "_view_module_version": "1.2.0",
            "_view_name": "StyleView",
            "bar_color": null,
            "description_width": ""
          }
        },
        "b3b2200ef11e4ba49ed6690d7d471088": {
          "model_module": "@jupyter-widgets/base",
          "model_name": "LayoutModel",
          "model_module_version": "1.2.0",
          "state": {
            "_model_module": "@jupyter-widgets/base",
            "_model_module_version": "1.2.0",
            "_model_name": "LayoutModel",
            "_view_count": null,
            "_view_module": "@jupyter-widgets/base",
            "_view_module_version": "1.2.0",
            "_view_name": "LayoutView",
            "align_content": null,
            "align_items": null,
            "align_self": null,
            "border": null,
            "bottom": null,
            "display": null,
            "flex": null,
            "flex_flow": null,
            "grid_area": null,
            "grid_auto_columns": null,
            "grid_auto_flow": null,
            "grid_auto_rows": null,
            "grid_column": null,
            "grid_gap": null,
            "grid_row": null,
            "grid_template_areas": null,
            "grid_template_columns": null,
            "grid_template_rows": null,
            "height": null,
            "justify_content": null,
            "justify_items": null,
            "left": null,
            "margin": null,
            "max_height": null,
            "max_width": null,
            "min_height": null,
            "min_width": null,
            "object_fit": null,
            "object_position": null,
            "order": null,
            "overflow": null,
            "overflow_x": null,
            "overflow_y": null,
            "padding": null,
            "right": null,
            "top": null,
            "visibility": null,
            "width": null
          }
        },
        "3daef7c874f6496fabf4301d3b5cdcd9": {
          "model_module": "@jupyter-widgets/controls",
          "model_name": "DescriptionStyleModel",
          "model_module_version": "1.5.0",
          "state": {
            "_model_module": "@jupyter-widgets/controls",
            "_model_module_version": "1.5.0",
            "_model_name": "DescriptionStyleModel",
            "_view_count": null,
            "_view_module": "@jupyter-widgets/base",
            "_view_module_version": "1.2.0",
            "_view_name": "StyleView",
            "description_width": ""
          }
        }
      }
    },
    "accelerator": "GPU"
  },
  "nbformat": 4,
  "nbformat_minor": 0
}